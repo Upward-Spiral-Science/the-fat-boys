{
 "cells": [
  {
   "cell_type": "markdown",
   "metadata": {},
   "source": [
    "**Assignment 5: Classification**\n",
    "\n",
    "Team Fatboys: Edric Tam, Kevin Huang, Ivan Kuznetsov\n",
    "\n",
    "Heavily adopted code and format from greilliam\n",
    "\n",
    "**State assumptions**\n",
    "\n",
    "Let y = 0 denote that a particular synapse is glutamatergic(high brightness of VGlut1) and y = 1 denote that a particular synapse is not glutamatergic(low brightness of VGlut1). This would serve as our labels for classification. We set the threshold to be the mean of the local brightness of VGlut1.\n",
    "\n",
    "For our null generative model that we sample from, we assume that all the features (local brightness of other markers) as well as the VGlut1 brightness that we are looking at are sampled from Gaussian distributions. Each feature will be sampled independently from a Gaussian with a certain mean and variance. In our code below, we generate the mean and variance randomly. \n",
    "\n",
    "Formally, we assume for each feature $X_i \\sim N(\\mu_i, \\sigma_i^2)$, for the labels $Y \\sim N(\\mu, \\sigma^2)$\n",
    "\n",
    "Where each $\\mu_i,\\sigma_i$ are randomly sampled from a uniform distribution between 0 and 1. "
   ]
  },
  {
   "cell_type": "markdown",
   "metadata": {},
   "source": [
    "**Formally Define classification/regression problem**\n",
    "\n",
    "We seek to define a classifier $S: X \\rightarrow Y$ such that the value $\\sum_{i = 1}^{n}\\theta(S({X_i}) \\neq Y_i)$ is minimized where $\\theta$ is the indicator function.\n"
   ]
  },
  {
   "cell_type": "markdown",
   "metadata": {},
   "source": [
    "**Provide algorithm for solving problem (including choosing hyperparameters as appropriate)**\n",
    "\n",
    "classification:\n",
    "\n",
    "lda (linear discriminant analysis): no parameters\n",
    "\n",
    "qda (quadratic discriminant analysis): no parameters\n",
    "\n",
    "svm (support vector machine): penalty parameters set to 0.5 because it was a default suggested\n",
    "\n",
    "knn (k-nearest neighbours): number of neighbors set to 3 because it was a default suggested\n",
    "\n",
    "rf (random forest): same as above\n"
   ]
  },
  {
   "cell_type": "code",
   "execution_count": 3,
   "metadata": {
    "collapsed": false,
    "scrolled": false
   },
   "outputs": [
    {
     "name": "stdout",
     "output_type": "stream",
     "text": [
      "Accuracy of Nearest Neighbors: 0.51 (+/- 1.00)\n",
      "Accuracy of Linear SVM: 0.53 (+/- 1.00)\n",
      "Accuracy of Random Forest: 0.50 (+/- 1.00)\n",
      "Accuracy of Linear Discriminant Analysis: 0.54 (+/- 1.00)\n",
      "Accuracy of Quadratic Discriminant Analysis: 0.54 (+/- 1.00)\n",
      "Accuracy of Nearest Neighbors: 0.57 (+/- 0.99)\n",
      "Accuracy of Linear SVM: 0.51 (+/- 1.00)\n",
      "Accuracy of Random Forest: 0.53 (+/- 1.00)\n",
      "Accuracy of Linear Discriminant Analysis: 0.47 (+/- 1.00)\n",
      "Accuracy of Quadratic Discriminant Analysis: 0.47 (+/- 1.00)\n",
      "Accuracy of Nearest Neighbors: 0.49 (+/- 1.00)\n",
      "Accuracy of Linear SVM: 0.50 (+/- 1.00)\n",
      "Accuracy of Random Forest: 0.53 (+/- 1.00)\n",
      "Accuracy of Linear Discriminant Analysis: 0.56 (+/- 0.99)\n",
      "Accuracy of Quadratic Discriminant Analysis: 0.51 (+/- 1.00)\n",
      "Accuracy of Nearest Neighbors: 0.46 (+/- 1.00)\n",
      "Accuracy of Linear SVM: 0.50 (+/- 1.00)\n",
      "Accuracy of Random Forest: 0.50 (+/- 1.00)\n",
      "Accuracy of Linear Discriminant Analysis: 0.48 (+/- 1.00)\n",
      "Accuracy of Quadratic Discriminant Analysis: 0.48 (+/- 1.00)\n",
      "Accuracy of Nearest Neighbors: 0.47 (+/- 1.00)\n",
      "Accuracy of Linear SVM: 0.49 (+/- 1.00)\n",
      "Accuracy of Random Forest: 0.49 (+/- 1.00)\n",
      "Accuracy of Linear Discriminant Analysis: 0.53 (+/- 1.00)\n",
      "Accuracy of Quadratic Discriminant Analysis: 0.50 (+/- 1.00)\n",
      "Accuracy of Nearest Neighbors: 0.49 (+/- 1.00)\n",
      "Accuracy of Linear SVM: 0.51 (+/- 1.00)\n",
      "Accuracy of Random Forest: 0.51 (+/- 1.00)\n",
      "Accuracy of Linear Discriminant Analysis: 0.49 (+/- 1.00)\n",
      "Accuracy of Quadratic Discriminant Analysis: 0.51 (+/- 1.00)\n",
      "Accuracy of Nearest Neighbors: 0.49 (+/- 1.00)\n",
      "Accuracy of Linear SVM: 0.49 (+/- 1.00)\n",
      "Accuracy of Random Forest: 0.49 (+/- 1.00)\n",
      "Accuracy of Linear Discriminant Analysis: 0.51 (+/- 1.00)\n",
      "Accuracy of Quadratic Discriminant Analysis: 0.49 (+/- 1.00)\n",
      "[[[ 0.51        0.49989999]\n",
      "  [ 0.53        0.49909919]\n",
      "  [ 0.5         0.5       ]\n",
      "  [ 0.54        0.49839743]\n",
      "  [ 0.54        0.49839743]]\n",
      "\n",
      " [[ 0.575       0.494343  ]\n",
      "  [ 0.50833333  0.49993055]\n",
      "  [ 0.525       0.49937461]\n",
      "  [ 0.46666667  0.49888765]\n",
      "  [ 0.475       0.49937461]]\n",
      "\n",
      " [[ 0.49        0.49989999]\n",
      "  [ 0.5         0.5       ]\n",
      "  [ 0.525       0.49937461]\n",
      "  [ 0.565       0.495757  ]\n",
      "  [ 0.505       0.499975  ]]\n",
      "\n",
      " [[ 0.4625      0.49859177]\n",
      "  [ 0.5         0.5       ]\n",
      "  [ 0.5         0.5       ]\n",
      "  [ 0.478125    0.49952126]\n",
      "  [ 0.484375    0.4997558 ]]\n",
      "\n",
      " [[ 0.47        0.49909919]\n",
      "  [ 0.495       0.499975  ]\n",
      "  [ 0.495       0.499975  ]\n",
      "  [ 0.53        0.49909919]\n",
      "  [ 0.5         0.5       ]]\n",
      "\n",
      " [[ 0.495       0.499975  ]\n",
      "  [ 0.50875     0.49992343]\n",
      "  [ 0.50625     0.49996094]\n",
      "  [ 0.48875     0.49987342]\n",
      "  [ 0.505       0.499975  ]]\n",
      "\n",
      " [[ 0.487       0.49983097]\n",
      "  [ 0.487       0.49983097]\n",
      "  [ 0.487       0.49983097]\n",
      "  [ 0.506       0.499964  ]\n",
      "  [ 0.489       0.49987899]]]\n"
     ]
    }
   ],
   "source": [
    "import numpy as np\n",
    "# import matplotlib.pyplot as plt\n",
    "import os\n",
    "import csv\n",
    "import pickle\n",
    "\n",
    "from sklearn import cross_validation\n",
    "from sklearn.cross_validation import LeaveOneOut\n",
    "from sklearn.neighbors import KNeighborsClassifier\n",
    "from sklearn.ensemble import RandomForestClassifier\n",
    "from sklearn.svm import SVC\n",
    "from sklearn.discriminant_analysis import LinearDiscriminantAnalysis\n",
    "from sklearn.discriminant_analysis import QuadraticDiscriminantAnalysis\n",
    "\n",
    "\n",
    "#%matplotlib inline\n",
    "\n",
    "np.random.seed(12345678)  # for reproducibility, set random seed\n",
    "r = 24  # define number of rois\n",
    "N = 100 # number of samples at each iteration\n",
    "# p0 = 0.5\n",
    "miu = np.random.rand(r)\n",
    "sigma = np.random.rand(r)\n",
    "# p1 = 0.5\n",
    "# define number of subjects per class\n",
    "S = np.array((100, 120, 200, 320, 400, 800, 1000))\n",
    "\n",
    "names = [\"Nearest Neighbors\", \"Linear SVM\", \"Random Forest\",\n",
    "         \"Linear Discriminant Analysis\", \"Quadratic Discriminant Analysis\"]\n",
    "\n",
    "classifiers = [\n",
    "    KNeighborsClassifier(3),\n",
    "    SVC(kernel=\"linear\", C=0.5),\n",
    "    RandomForestClassifier(max_depth=5, n_estimators=10, max_features=1),\n",
    "    LinearDiscriminantAnalysis(),\n",
    "    QuadraticDiscriminantAnalysis()]\n",
    "\n",
    "\n",
    "\n",
    "accuracy = np.zeros((len(S), len(classifiers), 2), dtype=np.dtype('float64'))\n",
    "for idx1, s in enumerate(S):\n",
    "    allFeatures = [np.random.normal(miu[i], sigma[i], s) for i in range(0,r-1)]\n",
    "    X = np.empty([r-1,s])\n",
    "    for i in range(0,r-1):\n",
    "        for q in range(0,s):\n",
    "            X[i,q] = allFeatures[i][q]\n",
    "    X = np.array(allFeatures).T\n",
    "    y = np.random.normal(miu[r-1], sigma[r-1], s)\n",
    "    threshold = np.median(y)\n",
    "    y = [(m > threshold) for m in y]\n",
    "    \n",
    "    for idx2, cla in enumerate(classifiers):\n",
    "        X_train, X_test, y_train, y_test = cross_validation.train_test_split(X, y, test_size=0.4, random_state=0)\n",
    "        clf = cla.fit(X_train, y_train)\n",
    "        loo = LeaveOneOut(len(X))\n",
    "        scores = cross_validation.cross_val_score(clf, X, y, cv=loo)\n",
    "        accuracy[idx1, idx2,] = [scores.mean(), scores.std()]\n",
    "        print(\"Accuracy of %s: %0.2f (+/- %0.2f)\" % (names[idx2], scores.mean(), scores.std() * 2))\n",
    "    \n",
    "print accuracy\n",
    "\n"
   ]
  },
  {
   "cell_type": "code",
   "execution_count": 4,
   "metadata": {
    "collapsed": false
   },
   "outputs": [
    {
     "data": {
      "image/png": "[encoded data removed]",
      "text/plain": [
       "<matplotlib.figure.Figure at 0x109d44090>"
      ]
     },
     "metadata": {},
     "output_type": "display_data"
    }
   ],
   "source": [
    "import matplotlib.pyplot as plt\n",
    "%matplotlib inline\n",
    "\n",
    "S = np.array((100, 120, 200, 320, 400, 800, 1000))\n",
    "\n",
    "plt.errorbar(S, accuracy[:,0,0], yerr = accuracy[:,0,1], hold=True, label=names[0])\n",
    "plt.errorbar(S, accuracy[:,1,0], yerr = accuracy[:,1,1], color='green', hold=True, label=names[1])\n",
    "plt.errorbar(S, accuracy[:,2,0], yerr = accuracy[:,2,1], color='red', hold=True, label=names[2])\n",
    "plt.errorbar(S, accuracy[:,3,0], yerr = accuracy[:,3,1], color='black', hold=True, label=names[3])\n",
    "plt.errorbar(S, accuracy[:,4,0], yerr = accuracy[:,4,1], color='brown', hold=True, label=names[4])\n",
    "plt.xscale('log')\n",
    "plt.xlabel('number of samples')\n",
    "plt.ylabel('accuracy')\n",
    "plt.title('Accuracty of gender classification under simulated data')\n",
    "plt.axhline(1, color='red', linestyle='--')\n",
    "plt.legend(loc='center left', bbox_to_anchor=(1, 0.5))\n",
    "plt.show()"
   ]
  },
  {
   "cell_type": "code",
   "execution_count": 5,
   "metadata": {
    "collapsed": false
   },
   "outputs": [
    {
     "name": "stdout",
     "output_type": "stream",
     "text": [
      "(1000, 24)\n",
      "Accuracy of Nearest Neighbors: 0.82 (+/- 0.77)\n",
      "Accuracy of Linear SVM: 0.81 (+/- 0.78)\n",
      "Accuracy of Random Forest: 0.79 (+/- 0.81)\n",
      "Accuracy of Linear Discriminant Analysis: 0.85 (+/- 0.71)"
     ]
    },
    {
     "name": "stderr",
     "output_type": "stream",
     "text": [
      "/Users/kyypgh/anaconda/lib/python2.7/site-packages/sklearn/discriminant_analysis.py:387: UserWarning: Variables are collinear.\n",
      "  warnings.warn(\"Variables are collinear.\")\n",
      "/Users/kyypgh/anaconda/lib/python2.7/site-packages/sklearn/discriminant_analysis.py:688: UserWarning: Variables are collinear\n",
      "  warnings.warn(\"Variables are collinear\")\n"
     ]
    },
    {
     "name": "stdout",
     "output_type": "stream",
     "text": [
      "\n",
      "Accuracy of Quadratic Discriminant Analysis: 0.60 (+/- 0.98)\n"
     ]
    }
   ],
   "source": [
    "np.random.seed(12345678)  # for reproducibility, set random seed\n",
    "r = 24  # define number of rois\n",
    "\n",
    "names = [\"Nearest Neighbors\", \"Linear SVM\", \"Random Forest\",\n",
    "         \"Linear Discriminant Analysis\", \"Quadratic Discriminant Analysis\"]\n",
    "\n",
    "classifiers = [\n",
    "    KNeighborsClassifier(3),\n",
    "    SVC(kernel=\"linear\", C=0.5),\n",
    "    RandomForestClassifier(max_depth=5, n_estimators=10, max_features=1),\n",
    "    LinearDiscriminantAnalysis(),\n",
    "    QuadraticDiscriminantAnalysis()]\n",
    "\n",
    "dataFile = open('local_brightness.p')\n",
    "realData = pickle.load(dataFile)\n",
    "labels = realData[3]\n",
    "numSubject = len(labels)\n",
    "features = np.empty([r,numSubject])\n",
    "for i in range(0,r):\n",
    "    for j in range(0,numSubject):\n",
    "        features[i,j]= realData[i+1][j]\n",
    "        if(i == 3-1):\n",
    "            features[i,j] = 0\n",
    "X = np.array(features).T\n",
    "X = X[0:1000,:]\n",
    "thresholdReal = np.mean(labels)\n",
    "Y= [(i > thresholdReal) for i in labels]\n",
    "y = Y[0:1000]\n",
    "\n",
    "print X.shape\n",
    "\n",
    "accuracy=np.zeros((len(classifiers),2))\n",
    "for idx, cla in enumerate(classifiers):\n",
    "    X_train, X_test, y_train, y_test = cross_validation.train_test_split(X, y, test_size=0.4, random_state=0)\n",
    "    clf = cla.fit(X_train, y_train)\n",
    "    loo = LeaveOneOut(len(X))\n",
    "    scores = cross_validation.cross_val_score(clf, X, y, cv=loo)\n",
    "    accuracy[idx,] = [scores.mean(), scores.std()]\n",
    "    print(\"Accuracy of %s: %0.2f (+/- %0.2f)\" % (names[idx], scores.mean(), scores.std() * 2))"
   ]
  },
  {
   "cell_type": "markdown",
   "metadata": {},
   "source": [
    "***Reflect on result***\n",
    "\n",
    "The classification accuracy on real data based on the five tested classifiers around the low 80s. (quite high)\n",
    "The classification accuracy on our null model of independent Gaussian-distributed features is slightly better than chance at around the low 50s. This means that the features of true data is likely not independent and highly correlated. The marginal plots of the features does look bell-curve like though, so the gaussian assumption is not out of nowhere.\n",
    "\n",
    "Next, We need to test new assumptions and new distributions to sample from, most likely sampling from Gaussians that are correlated. Also, we can calculate means and stdevs fromt the real data, and then construct the parametric gaussian model based on those values to see if we can get a better null distribution."
   ]
  },
  {
   "cell_type": "code",
   "execution_count": null,
   "metadata": {
    "collapsed": true
   },
   "outputs": [],
   "source": [
    "\n"
   ]
  },
  {
   "cell_type": "code",
   "execution_count": null,
   "metadata": {
    "collapsed": true
   },
   "outputs": [],
   "source": []
  }
 ],
 "metadata": {
  "kernelspec": {
   "display_name": "Python 2",
   "language": "python",
   "name": "python2"
  },
  "language_info": {
   "codemirror_mode": {
    "name": "ipython",
    "version": 2
   },
   "file_extension": ".py",
   "mimetype": "text/x-python",
   "name": "python",
   "nbconvert_exporter": "python",
   "pygments_lexer": "ipython2",
   "version": "2.7.11"
  }
 },
 "nbformat": 4,
 "nbformat_minor": 0
}

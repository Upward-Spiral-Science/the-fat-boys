{
 "cells": [
  {
   "cell_type": "code",
   "execution_count": 1,
   "metadata": {
    "collapsed": true
   },
   "outputs": [],
   "source": [
    "#This code ingests the provided dataset, throws out columns 5 and 6, and labels the columns.\n",
    "\n",
    "loadData <- function(filepath = 'C:/Users/iakuznet/Desktop/the-fat-boys/data'){\n",
    "\trequire(data.table)\n",
    "\t\n",
    "\t#The data is composed of 144 columns, with each 6 consecutive columns corresponding to 1 of 24 markers. Apparently column 5 and 6 of the data are unnecessary and should be thrown out.\n",
    "\t#List of fluorescent markers used\n",
    "\tmarkers <- c('Synap_1', 'Synap_2', 'VGlut1_1', 'VGlut1_2', 'VGlut2', 'VGlut3', 'PSD', 'Glur2', 'NDAR1', 'NR2B', 'GAD', 'VGAT', 'PV',\n",
    "\t'Gephyr', 'GABAR1', 'GABABR', 'CR1', '5HT1A', 'NOS', 'TH', 'VACht', 'Synapo', 'Tubuli', 'DAPI')\n",
    "\t\n",
    "\t#What columns 1-4 for each of the florescent markers coorespond to.\n",
    "\tlabels <- c('Int_Bright','Local_Bright','Dist_COM','MOI')\n",
    "\t\n",
    "\t#Generate labels for each column\n",
    "\tcol_labels <- c() \n",
    "\t\n",
    "\tfor (i in 1:length(markers)){\n",
    "\t\tfor (j in 1:length(labels)){\n",
    "\t\t\tcol_labels[(i - 1) * length(labels) + j] = paste(markers[i],\"_\",labels[j],sep = \"\")\n",
    "\t\t}\n",
    "\t}\n",
    "\t\n",
    "\t#Change to relevant location of file\n",
    "\tsetwd(filepath)\n",
    "\n",
    "\t#Load in file using data.tables fread()\n",
    "\tdata <- fread(\"synapsinR_7thA.tif.Pivots.txt.2011Features.txt\")\n",
    "\n",
    "\t#Convert to dataframe\n",
    "\tdata <- as.data.frame(data)\n",
    "\n",
    "\t#Remove columns 5 and 6 corresponding to each fluorescent marker\n",
    "\tgood_ones <- c(1:dim(data)[2])\n",
    "\tdim(good_ones) <- c(6,dim(data)[2] / 6)\n",
    "\tgood_ones <- good_ones[1:4,]\n",
    "\tdim(good_ones) <- c(4 * dim(good_ones)[2],1)\n",
    "\tdata_cleaned <- data[,good_ones]\n",
    "\t\n",
    "\t#Label data\n",
    "\tcolnames(data_cleaned) <- col_labels\n",
    "\t\n",
    "\treturn(data_cleaned)\n",
    "}"
   ]
  },
  {
   "cell_type": "markdown",
   "metadata": {},
   "source": [
    "We load our dataset:"
   ]
  },
  {
   "cell_type": "code",
   "execution_count": null,
   "metadata": {
    "collapsed": false
   },
   "outputs": [
    {
     "name": "stderr",
     "output_type": "stream",
     "text": [
      "Loading required package: data.table\n",
      "Warning message:\n",
      ": package 'data.table' was built under R version 3.1.3"
     ]
    }
   ],
   "source": [
    "data <- loadData()"
   ]
  },
  {
   "cell_type": "code",
   "execution_count": null,
   "metadata": {
    "collapsed": true
   },
   "outputs": [],
   "source": [
    "#Subsamples 10000 rows from the original data set for easier analysis\n",
    "\n",
    "subsampleRows <- function(data,samples = 10000,seed = 42){\n",
    "\t#Subsample some number of rows for further analysis. Set seed for reproducibility.\n",
    "\tset.seed(seed);rand_rows = sample(1:dim(data)[1],samples)\n",
    "\tsubsample <- data[rand_rows,]\n",
    "\treturn(subsample)\n",
    "}"
   ]
  },
  {
   "cell_type": "code",
   "execution_count": null,
   "metadata": {
    "collapsed": false
   },
   "outputs": [],
   "source": [
    "subsample <- subsampleRows(data)"
   ]
  },
  {
   "cell_type": "code",
   "execution_count": null,
   "metadata": {
    "collapsed": true
   },
   "outputs": [],
   "source": [
    "#Scales each column of the input data frame by converting to Z scores and optionally log scaling the data\n",
    "\n",
    "scaleData <- function(data,center = TRUE,scale = TRUE, log = TRUE){\n",
    "\tdata_scaled <- scale(data, center = center,scale = scale)\n",
    "    if(log){\n",
    "        norm_0_1 <- function(x) {(x - min(x, na.rm=TRUE))/(max(x,na.rm=TRUE) - min(x, na.rm=TRUE))}\n",
    "        data_scaled <- log(norm_0_1(data_scaled) + 1) / log(10)\n",
    "    }\n",
    "\treturn(data_scaled)\n",
    "}"
   ]
  },
  {
   "cell_type": "code",
   "execution_count": null,
   "metadata": {
    "collapsed": true
   },
   "outputs": [],
   "source": [
    "subsample <- scaleData(subsample, log = FALSE)\n",
    "subsample_s <- scaleData(subsample, log = TRUE)"
   ]
  },
  {
   "cell_type": "code",
   "execution_count": null,
   "metadata": {
    "collapsed": false
   },
   "outputs": [],
   "source": [
    "#For labeling\n",
    "\n",
    "library(gplots)\n",
    "library(colorRamps)\n",
    "\n",
    "channel <- c('Synap_1','Synap_2','VGlut1_t1','VGlut1_t2','VGlut2','Vglut3',\n",
    "              'psd','glur2','nmdar1','nr2b','gad','VGAT',\n",
    "              'PV','Gephyr','GABAR1','GABABR','CR1','5HT1A',\n",
    "              'NOS','TH','VACht','Synapo','tubuli','DAPI')\n",
    "channel.type <- c('synap','synap','ex.pre','ex.pre','ex.pre','in.pre',\n",
    "                  'ex.post','ex.post','ex.post','ex.post','in.pre','in.pre',\n",
    "                  'in.pre','in.post','in.post','in.post','other','other',\n",
    "                  'other','other','other','other','none','none')\n",
    "nchannel <- length(channel)\n",
    "nfeat <- ncol(data) / nchannel\n",
    "fchannel <- as.numeric(factor(channel.type,\n",
    "    levels= c(\"synap\",\"ex.pre\",\"ex.post\",\"in.pre\",\"in.post\",\"in.pre.small\",\"other\",\"none\")\n",
    "    ))\n",
    "ford <- order(fchannel)\n",
    "Syncol <- c(\"purple\",\"#197300\",\"#5ed155\",\"#990000\",\"#cc0000\",\"#ff9933\",\"mediumblue\",\"gold\")\n",
    "ccol <- Syncol[fchannel]\n",
    "\n",
    "\n",
    "fname <- as.vector(sapply(channel,function(x) paste0(x,paste0(\"F\",0:5))))\n",
    "names(subsample) <- fname\n",
    "names(subsample_s) <- fname\n",
    "fcol <- rep(ccol, each=6)\n",
    "mycol <- colorpanel(100, \"purple\", \"black\", \"green\")\n",
    "mycol2 <- matlab.like(nchannel)\n",
    "    \n"
   ]
  },
  {
   "cell_type": "code",
   "execution_count": null,
   "metadata": {
    "collapsed": false
   },
   "outputs": [],
   "source": [
    "#Use only f0\n",
    "\n",
    "f0 <- seq(1,ncol(data),by=nfeat)\n",
    "featF0s <- subset(subsample, select=f0)\n",
    "flog <- subset(subsample_s, select=f0)"
   ]
  },
  {
   "cell_type": "markdown",
   "metadata": {},
   "source": [
    "Compute correlation matrix"
   ]
  },
  {
   "cell_type": "code",
   "execution_count": null,
   "metadata": {
    "collapsed": true
   },
   "outputs": [],
   "source": [
    "result <- cov(flog,flog)"
   ]
  },
  {
   "cell_type": "code",
   "execution_count": null,
   "metadata": {
    "collapsed": false
   },
   "outputs": [],
   "source": [
    "library(reshape)\n",
    "library(naturalsort)\n",
    "library(ggplot2)\n",
    "\n",
    "temp <- melt(result)\n",
    "\n",
    "levels(temp[,1]) <- naturalsort(levels(temp[,1]))\n",
    "levels(temp[,2]) <- naturalsort(levels(temp[,2]))\n",
    "temp = temp[naturalorder(temp[,1]),]\n",
    "\n",
    "for (i in 4 * (0:(dim(result)[2] - 1)) + 1){\n",
    "\tloop_temp <- temp[i:(i + 3),]\n",
    "\ttemp[i:(i + 3),] = loop_temp[naturalorder(temp[i:(i + 3),2]),]\n",
    "}\n",
    "\n",
    "temp$X1 <- gsub('_Int_Bright','',temp$X1)\n",
    "temp$X2 <- gsub('_Int_Bright','',temp$X2)\n",
    "\n",
    "base_size <- 20\n",
    "p1 <- ggplot(temp, aes(X2, X1, fill = value)) + geom_tile(alpha = 0.5, colour = \"white\") + \n",
    "scale_fill_gradient2(low = \"steelblue\", high = \"red\", mid = \"violet\", name = \"\") + \n",
    "theme_grey(base_size = base_size) + labs(x = \"\", y = \"\") + scale_x_discrete(expand = c(0, 0)) + scale_y_discrete(expand = c(0, 0)) + \n",
    "ggtitle(\"Covariance Heatmap After Log Scaling\") + \n",
    "theme(axis.ticks = element_blank(), plot.title = element_text(vjust=2), axis.text.x = element_text(angle=90, vjust = 0.6), \n",
    "      text = element_text(size=14),axis.text.y = element_text(size = 14), legend.text=element_text(size=14), \n",
    "      legend.title = element_text(size = 14)) + guides(fill = guide_colorbar(barwidth = 2, barheight = 10, title.position = \"top\", title.vjust = 10))\n",
    "\n",
    "temp[507,]\n",
    "p1"
   ]
  },
  {
   "cell_type": "code",
   "execution_count": null,
   "metadata": {
    "collapsed": false
   },
   "outputs": [],
   "source": [
    "p1\n",
    "ggsave('C:/users/iakuznet/Desktop/Covariance.png')"
   ]
  },
  {
   "cell_type": "markdown",
   "metadata": {},
   "source": [
    "Last week we tested colocalization by characterizing the 1-NN distance from GABABR to other markers. However, we did this in 2D rather than 3D. We redo last week's work with better sorting for easier visualization:"
   ]
  },
  {
   "cell_type": "code",
   "execution_count": null,
   "metadata": {
    "collapsed": false
   },
   "outputs": [],
   "source": [
    "library(ggplot2)\n",
    "\n",
    "names <- gsub('_Int_Bright','',colnames(flog))\n",
    "corr <- fread(\"C:/Users/iakuznet/Desktop/the-fat-boys/data/corr_GABABR.csv\",data.table = FALSE)\n",
    "colnames(corr) <- names\n",
    "corr <- t(corr)\n",
    "corr <- cbind(corr,as.data.frame(names))\n",
    "colnames(corr) <- c('corr','names')\n",
    "sort_res <- sort(corr$corr,index.return = TRUE)\n",
    "corr$names <- factor(corr$names,corr$names[sort_res$ix])\n",
    "\n",
    "color_use <- ccol[sort_res$ix]\n",
    "\n",
    "\n",
    "p1 <- ggplot(corr,aes(factor(names),corr, color = names)) + geom_point() + theme(axis.text.x = element_text(angle = 90, hjust = 1, color=color_use))\n",
    "p1 <- p1 + scale_color_manual(values=color_use) + theme(legend.position = \"none\")\n",
    "p1 <- p1 + xlab('Marker') + ylab('Colocalization via Correlation') + ggtitle('Colocalization of GABAB Receptor')\n",
    "p1\n",
    "\n"
   ]
  },
  {
   "cell_type": "code",
   "execution_count": null,
   "metadata": {
    "collapsed": false
   },
   "outputs": [],
   "source": [
    "dist_res <- fread(\"C:/Users/iakuznet/Desktop/the-fat-boys/data/analysis_GABABR.csv\",data.table = FALSE)\n",
    "dist_res <- dist_res[3,-1]\n",
    "colnames(dist_res) <- names\n",
    "dist_res <- t(dist_res)\n",
    "dist_res <- cbind(dist_res,as.data.frame(names))\n",
    "colnames(dist_res) <- c('dist','names')\n",
    "sort_res <- sort(dist_res$dist,index.return = TRUE)\n",
    "dist_res$names <- factor(dist_res$names,dist_res$names[sort_res$ix])\n",
    "\n",
    "color_use <- ccol[sort_res$ix]\n",
    "\n",
    "p2 <- ggplot(dist_res,aes(names,dist, color = names)) + geom_point() + theme(axis.text.x = element_text(angle = 90, hjust = 1, color=color_use))\n",
    "p2 <- p2 + scale_color_manual(values=color_use) + theme(legend.position = \"none\")\n",
    "p2 <- p2 + xlab('Marker') + ylab('Colocalization via Mean Minimum Distance to Neighbor') + ggtitle('Colocalization of GABAB Receptor')\n",
    "p2\n",
    "\n"
   ]
  },
  {
   "cell_type": "code",
   "execution_count": null,
   "metadata": {
    "collapsed": false
   },
   "outputs": [],
   "source": [
    "dist_res <- fread(\"C:/Users/iakuznet/Desktop/the-fat-boys/data/analysis_GABABR.csv\",data.table = FALSE)\n",
    "dist_res <- dist_res[4,-1]\n",
    "colnames(dist_res) <- names\n",
    "dist_res <- t(dist_res)\n",
    "dist_res <- cbind(dist_res,as.data.frame(names))\n",
    "colnames(dist_res) <- c('dist','names')\n",
    "sort_res <- sort(dist_res$dist,index.return = TRUE)\n",
    "dist_res$names <- factor(dist_res$names,dist_res$names[sort_res$ix])\n",
    "\n",
    "color_use <- ccol[sort_res$ix]\n",
    "\n",
    "p3 <- ggplot(dist_res,aes(names,dist, color = names)) + geom_point() + theme(axis.text.x = element_text(angle = 90, hjust = 1, color=color_use))\n",
    "p3 <- p3 + scale_color_manual(values=color_use) + theme(legend.position = \"none\")\n",
    "p3 <- p3 + xlab('Marker') + ylab('Colocalization via Mean Log Minimum Distance to Neighbor + 1') + ggtitle('Colocalization of GABAB Receptor')\n",
    "p3\n",
    "\n"
   ]
  },
  {
   "cell_type": "code",
   "execution_count": null,
   "metadata": {
    "collapsed": false
   },
   "outputs": [],
   "source": [
    "dist_res <- fread(\"C:/Users/iakuznet/Desktop/the-fat-boys/data/analysis_GABABR.csv\",data.table = FALSE)\n",
    "dist_res <- dist_res[5,-1]\n",
    "colnames(dist_res) <- names\n",
    "dist_res <- t(dist_res)\n",
    "dist_res <- cbind(dist_res,as.data.frame(names))\n",
    "colnames(dist_res) <- c('dist','names')\n",
    "sort_res <- sort(dist_res$dist,index.return = TRUE)\n",
    "dist_res$names <- factor(dist_res$names,dist_res$names[sort_res$ix])\n",
    "\n",
    "color_use <- ccol[sort_res$ix]\n",
    "\n",
    "p3 <- ggplot(dist_res,aes(names,dist, color = names)) + geom_point() + theme(axis.text.x = element_text(angle = 90, hjust = 1, color=color_use))\n",
    "p3 <- p3 + scale_color_manual(values=color_use) + theme(legend.position = \"none\")\n",
    "p3 <- p3 + xlab('Marker') + ylab('Colocalization via Median Minimum Distance to Neighbor') + ggtitle('Colocalization of GABAB Receptor')\n",
    "p3\n",
    "\n"
   ]
  },
  {
   "cell_type": "markdown",
   "metadata": {},
   "source": [
    "Now we redo the above in 3D and take into account the actual voxel dimensions. Note that we are still ignoring border effects on the assumption that they are negligable:"
   ]
  },
  {
   "cell_type": "code",
   "execution_count": null,
   "metadata": {
    "collapsed": false
   },
   "outputs": [],
   "source": [
    "dist_res <- fread(\"C:/Users/iakuznet/Desktop/the-fat-boys/data/analysis_GABABR.csv\",data.table = FALSE)\n",
    "dist_res <- dist_res[8,-1]\n",
    "colnames(dist_res) <- names\n",
    "dist_res <- t(dist_res)\n",
    "dist_res <- cbind(dist_res,as.data.frame(names))\n",
    "colnames(dist_res) <- c('dist','names')\n",
    "sort_res <- sort(dist_res$dist,index.return = TRUE)\n",
    "dist_res$names <- factor(dist_res$names,dist_res$names[sort_res$ix])\n",
    "\n",
    "color_use <- ccol[sort_res$ix]\n",
    "\n",
    "p4 <- ggplot(dist_res,aes(names,dist, color = names)) + geom_point() + theme(axis.text.x = element_text(angle = 90, hjust = 1, color=color_use))\n",
    "p4 <- p4 + scale_color_manual(values=color_use) + theme(legend.position = \"none\")\n",
    "p4 <- p4 + xlab('Marker') + ylab('Colocalization via Mean Minimum Distance to Neighbor (nm)') + ggtitle('Colocalization of GABAB Receptor')\n",
    "p4\n",
    "\n"
   ]
  },
  {
   "cell_type": "code",
   "execution_count": null,
   "metadata": {
    "collapsed": false
   },
   "outputs": [],
   "source": [
    "dist_res <- fread(\"C:/Users/iakuznet/Desktop/the-fat-boys/data/analysis_GABABR.csv\",data.table = FALSE)\n",
    "dist_res <- dist_res[9,-1]\n",
    "colnames(dist_res) <- names\n",
    "dist_res <- t(dist_res)\n",
    "dist_res <- cbind(dist_res,as.data.frame(names))\n",
    "colnames(dist_res) <- c('dist','names')\n",
    "sort_res <- sort(dist_res$dist,index.return = TRUE)\n",
    "dist_res$names <- factor(dist_res$names,dist_res$names[sort_res$ix])\n",
    "\n",
    "color_use <- ccol[sort_res$ix]\n",
    "\n",
    "p5 <- ggplot(dist_res,aes(names,dist, color = names)) + geom_point() + theme(axis.text.x = element_text(angle = 90, hjust = 1, color=color_use))\n",
    "p5 <- p5 + scale_color_manual(values=color_use) + theme(legend.position = \"none\")\n",
    "p5 <- p5 + xlab('Marker') + ylab('Colocalization via Median Minimum Distance to Neighbor (nm)') + ggtitle('Colocalization of GABAB Receptor')\n",
    "p5\n",
    "\n"
   ]
  },
  {
   "cell_type": "markdown",
   "metadata": {},
   "source": [
    "Now we compute all the colocalizations:"
   ]
  },
  {
   "cell_type": "code",
   "execution_count": null,
   "metadata": {
    "collapsed": false
   },
   "outputs": [],
   "source": [
    "dist_res <- fread(\"C:/Users/iakuznet/Desktop/the-fat-boys/data/analysis_all_mean.csv\",data.table = FALSE)\n",
    "dist_res <- dist_res[,-1]\n",
    "colnames(dist_res) <- names\n",
    "rownames(dist_res) <- names\n",
    "\n",
    "heatmap.2(as.matrix(dist_res), Rowv=FALSE, Colv = FALSE, trace=\"none\",dendrogram = \"none\", col=mycol,colCol=ccol,colRow = ccol, \n",
    "          density.info = \"none\", cexRow=0.8, keysize=1,symkey=FALSE,symbreaks=FALSE,scale=\"none\", srtCol=90,\n",
    "          main =\"Colocalization Matrix (Mean)\")\n",
    "\n"
   ]
  },
  {
   "cell_type": "code",
   "execution_count": null,
   "metadata": {
    "collapsed": false
   },
   "outputs": [],
   "source": [
    "dist_res <- fread(\"C:/Users/iakuznet/Desktop/the-fat-boys/data/analysis_all_mean.csv\",data.table = FALSE)\n",
    "dist_res <- dist_res[-24,c(-1,-25)]\n",
    "colnames(dist_res) <- names[-24]\n",
    "rownames(dist_res) <- names[-24]\n",
    "\n",
    "heatmap.2(as.matrix(dist_res), Rowv=FALSE, Colv = FALSE, trace=\"none\",dendrogram = \"none\", col=mycol[-24],colCol=ccol[-24],colRow = ccol[-24], \n",
    "          density.info = \"none\", cexRow=0.8, keysize=1,symkey=FALSE,symbreaks=FALSE,scale=\"none\", srtCol=90,\n",
    "          main =\"Colocalization Matrix (Mean)\")\n",
    "\n"
   ]
  },
  {
   "cell_type": "code",
   "execution_count": null,
   "metadata": {
    "collapsed": false
   },
   "outputs": [],
   "source": [
    "dist_res <- fread(\"C:/Users/iakuznet/Desktop/the-fat-boys/data/analysis_all_median.csv\",data.table = FALSE)\n",
    "dist_res <- dist_res[,-1]\n",
    "colnames(dist_res) <- names\n",
    "rownames(dist_res) <- names\n",
    "\n",
    "heatmap.2(as.matrix(dist_res), Rowv=FALSE, Colv = FALSE, trace=\"none\",dendrogram = \"none\", col=mycol,colCol=ccol,colRow = ccol, \n",
    "          density.info = \"none\", cexRow=0.8, keysize=1,symkey=FALSE,symbreaks=FALSE,scale=\"none\", srtCol=90,\n",
    "          main =\"Colocalization Matrix (Median)\")"
   ]
  },
  {
   "cell_type": "code",
   "execution_count": null,
   "metadata": {
    "collapsed": false
   },
   "outputs": [],
   "source": [
    "dist_res <- fread(\"C:/Users/iakuznet/Desktop/the-fat-boys/data/analysis_all_median.csv\",data.table = FALSE)\n",
    "dist_res <- dist_res[-24,c(-1,-25)]\n",
    "colnames(dist_res) <- names[-24]\n",
    "rownames(dist_res) <- names[-24]\n",
    "\n",
    "heatmap.2(as.matrix(dist_res), Rowv=FALSE, Colv = FALSE, trace=\"none\",dendrogram = \"none\", col=mycol[-24],colCol=ccol[-24],colRow = ccol[-24], \n",
    "          density.info = \"none\", cexRow=0.8, keysize=1,symkey=FALSE,symbreaks=FALSE,scale=\"none\", srtCol=90,\n",
    "          main =\"Colocalization Matrix (Median)\")"
   ]
  },
  {
   "cell_type": "code",
   "execution_count": null,
   "metadata": {
    "collapsed": false
   },
   "outputs": [],
   "source": [
    "#Visualize the marginals without log scaling\n",
    "library(reshape)\n",
    "library(ggplot2)\n",
    "\n",
    "featKDE <- as.matrix(featF0s)\n",
    "\n",
    "df <- melt(featKDE)\n",
    "names(df) <- c(\"ind\",\"channel\",\"value\")\n",
    "ggplot(df, aes(x=value)) + \n",
    "    scale_color_manual(values=ccol[sort(colnames(featF0s), index.return = TRUE)$ix]) +\n",
    "    scale_x_continuous(limits=c(0,1))+\n",
    "    geom_density(aes(group=channel, colour=channel)) + xlab('Value') + ylab('Density') +\n",
    "    ggtitle('Raw Marginals')"
   ]
  },
  {
   "cell_type": "code",
   "execution_count": null,
   "metadata": {
    "collapsed": false
   },
   "outputs": [],
   "source": [
    "#Visualize the marginals with log scaling\n",
    "library(reshape)\n",
    "library(ggplot2)\n",
    "\n",
    "featKDE <- as.matrix(flog)\n",
    "\n",
    "df <- melt(featKDE)\n",
    "names(df) <- c(\"ind\",\"channel\",\"value\")\n",
    "ggplot(df, aes(x=value)) + \n",
    "    scale_color_manual(values=ccol[sort(colnames(featF0s), index.return = TRUE)$ix]) +\n",
    "    scale_x_continuous(limits=c(0.075,0.12)) +\n",
    "    geom_density(aes(group=channel, colour=channel))+ xlab('Value') + ylab('Density') +\n",
    "    ggtitle('Marginals After Log Scaling')"
   ]
  },
  {
   "cell_type": "code",
   "execution_count": null,
   "metadata": {
    "collapsed": false
   },
   "outputs": [],
   "source": [
    "#Visualize the marginals with log scaling\n",
    "library(reshape)\n",
    "library(ggplot2)\n",
    "\n",
    "df <- as.data.frame(flog[,1])\n",
    "names(df) <- c(\"value\")\n",
    "ggplot(df, aes(x=value))  +\n",
    "    scale_x_continuous(limits=c(0.075,0.12)) +\n",
    "    geom_density()+ xlab('Value') + ylab('Density') +\n",
    "    ggtitle('Synapsin Marginal After Log Scaling')"
   ]
  },
  {
   "cell_type": "code",
   "execution_count": null,
   "metadata": {
    "collapsed": false
   },
   "outputs": [],
   "source": [
    "#Visualize the marginals with log scaling after outlier clipping\n",
    "library(reshape)\n",
    "library(ggplot2)\n",
    "\n",
    "index <- flog[,1] > 0.0925\n",
    "\n",
    "df <- as.data.frame(flog[index,1])\n",
    "names(df) <- c(\"value\")\n",
    "ggplot(df, aes(x=value))  +\n",
    "    scale_x_continuous(limits=c(0.075,0.12)) +\n",
    "    geom_density()+ xlab('Value') + ylab('Density') +\n",
    "    ggtitle('Synapsin Marginal After Log Scaling')"
   ]
  }
 ],
 "metadata": {
  "kernelspec": {
   "display_name": "R",
   "language": "R",
   "name": "ir"
  },
  "language_info": {
   "codemirror_mode": "r",
   "file_extension": ".r",
   "mimetype": "text/x-r-source",
   "name": "R",
   "pygments_lexer": "r",
   "version": "3.1.2"
  }
 },
 "nbformat": 4,
 "nbformat_minor": 0
}

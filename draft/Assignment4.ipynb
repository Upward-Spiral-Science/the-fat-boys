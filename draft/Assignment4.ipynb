{
 "cells": [
  {
   "cell_type": "code",
   "execution_count": null,
   "metadata": {
    "collapsed": true
   },
   "outputs": [],
   "source": [
    "\n"
   ]
  },
  {
   "cell_type": "markdown",
   "metadata": {},
   "source": [
    "**Define Model and Assumptions**\n",
    "\n",
    "We assume that the data assumes a Gaussian mixture model with k components. We want to know what number of clusters/components is the most likely. Therefore, we are going to iteratively perform statistical tests on k clusters vs k+1 clusters, where k ranges from 1 to 4. \n",
    "\n",
    "$F_0\\sim GMM(k)$\n",
    "\n",
    "$F_A\\sim GMM(k+1)$\n"
   ]
  },
  {
   "cell_type": "markdown",
   "metadata": {},
   "source": [
    "** Formalize Statistical Test**\n",
    "\n",
    "We formalize it as follows:\n",
    "\n",
    "$H_0: n = k$\n",
    "\n",
    "$H_A: n = k+1$\n"
   ]
  },
  {
   "cell_type": "markdown",
   "metadata": {},
   "source": [
    "**Formalize Test Statistic:**\n",
    "\n",
    "$X = -2(\\log(\\lambda))$\n",
    "\n",
    "Here, the $\\lambda$ is the likelihood ratio between the alternative and the null, i.e. \n",
    "\n",
    "$\\lambda = \\frac{likelihood_A^*}{likelihood_0^*}$\n",
    "\n",
    "The * indicates that these likelihoods are optimal. In our implementation we use an EM approach to calculate the optimal $\\lambda$ using the normalmixEM method.\n",
    "\n"
   ]
  },
  {
   "cell_type": "code",
   "execution_count": null,
   "metadata": {
    "collapsed": true
   },
   "outputs": [],
   "source": []
  }
 ],
 "metadata": {
  "kernelspec": {
   "display_name": "R",
   "language": "R",
   "name": "ir"
  },
  "language_info": {
   "codemirror_mode": "r",
   "file_extension": ".r",
   "mimetype": "text/x-r-source",
   "name": "R",
   "pygments_lexer": "r",
   "version": "3.2.0"
  }
 },
 "nbformat": 4,
 "nbformat_minor": 0
}
